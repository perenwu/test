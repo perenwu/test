{
 "cells": [
  {
   "cell_type": "code",
   "execution_count": 1,
   "metadata": {},
   "outputs": [],
   "source": [
    "import sympy as sp\n",
    "import symbtools as st\n",
    "%load_ext ipydex.displaytools\n",
    "from sympy.interactive import printing\n",
    "printing.init_printing()"
   ]
  },
  {
   "cell_type": "code",
   "execution_count": 2,
   "metadata": {},
   "outputs": [
    {
     "data": {
      "image/png": "[encoded data removed]",
      "text/latex": [
       "$$\\texttt{f} := \\left[\\begin{matrix}- x_{1}^{3} + x_{1} x_{2}\\\\x_{1}\\\\- x_{3}\\\\x_{1}^{2} + x_{2}\\end{matrix}\\right]$$"
      ],
      "text/plain": [
       "f := ⎡    3        ⎤\n",
       "⎢- x₁  + x₁⋅x₂⎥\n",
       "⎢             ⎥\n",
       "⎢     x₁      ⎥\n",
       "⎢             ⎥\n",
       "⎢     -x₃     ⎥\n",
       "⎢             ⎥\n",
       "⎢    2        ⎥\n",
       "⎣  x₁  + x₂   ⎦"
      ]
     },
     "metadata": {},
     "output_type": "display_data"
    },
    {
     "name": "stdout",
     "output_type": "stream",
     "text": [
      "---\n"
     ]
    },
    {
     "data": {
      "image/png": "[encoded data removed]",
      "text/latex": [
       "$$\\texttt{g} := \\left[\\begin{matrix}0\\\\2 x_{3} + 2\\\\1\\\\0\\end{matrix}\\right]$$"
      ],
      "text/plain": [
       "g := ⎡   0    ⎤\n",
       "⎢        ⎥\n",
       "⎢2⋅x₃ + 2⎥\n",
       "⎢        ⎥\n",
       "⎢   1    ⎥\n",
       "⎢        ⎥\n",
       "⎣   0    ⎦"
      ]
     },
     "metadata": {},
     "output_type": "display_data"
    },
    {
     "name": "stdout",
     "output_type": "stream",
     "text": [
      "---\n"
     ]
    },
    {
     "data": {
      "image/png": "[encoded data removed]",
      "text/latex": [
       "$$\\texttt{y} := x_{4}$$"
      ],
      "text/plain": [
       "y := x₄"
      ]
     },
     "metadata": {},
     "output_type": "display_data"
    },
    {
     "name": "stdout",
     "output_type": "stream",
     "text": [
      "---\n"
     ]
    }
   ],
   "source": [
    "x1, x2, x3, x4 = xx = sp.symbols('x1:5')\n",
    "u = sp.Symbol(\"u\")\n",
    "\n",
    "\n",
    "f = sp.Matrix([x1*x2 - x1**3, x1 , -x3, x1**2 + x2])  ##:\n",
    "g = sp.Matrix([0, 2 + 2*x3 , 1, 0])  ##:\n",
    "y = h = x4  ##:"
   ]
  },
  {
   "cell_type": "code",
   "execution_count": 3,
   "metadata": {},
   "outputs": [
    {
     "data": {
      "image/png": "[encoded data removed]",
      "text/latex": [
       "$$\\texttt{Lfh} := x_{1}^{2} + x_{2}$$"
      ],
      "text/plain": [
       "Lfh :=   2     \n",
       "x₁  + x₂"
      ]
     },
     "metadata": {},
     "output_type": "display_data"
    },
    {
     "name": "stdout",
     "output_type": "stream",
     "text": [
      "---\n"
     ]
    },
    {
     "data": {
      "image/png": "[encoded data removed]",
      "text/latex": [
       "$$\\texttt{Lf2h} := 2 x_{1} \\left(- x_{1}^{3} + x_{1} x_{2}\\right) + x_{1}$$"
      ],
      "text/plain": [
       "Lf2h :=      ⎛    3        ⎞     \n",
       "2⋅x₁⋅⎝- x₁  + x₁⋅x₂⎠ + x₁"
      ]
     },
     "metadata": {},
     "output_type": "display_data"
    },
    {
     "name": "stdout",
     "output_type": "stream",
     "text": [
      "---\n"
     ]
    },
    {
     "data": {
      "image/png": "[encoded data removed]",
      "text/latex": [
       "$$\\texttt{Lf3h} := 2 x_{1}^{3} + \\left(- x_{1}^{3} + x_{1} x_{2}\\right) \\left(- 2 x_{1}^{3} + 2 x_{1} x_{2} + 2 x_{1} \\left(- 3 x_{1}^{2} + x_{2}\\right) + 1\\right)$$"
      ],
      "text/plain": [
       "Lf3h :=     3   ⎛    3        ⎞ ⎛      3                  ⎛      2     ⎞    ⎞\n",
       "2⋅x₁  + ⎝- x₁  + x₁⋅x₂⎠⋅⎝- 2⋅x₁  + 2⋅x₁⋅x₂ + 2⋅x₁⋅⎝- 3⋅x₁  + x₂⎠ + 1⎠"
      ]
     },
     "metadata": {},
     "output_type": "display_data"
    },
    {
     "name": "stdout",
     "output_type": "stream",
     "text": [
      "---\n"
     ]
    }
   ],
   "source": [
    "# Hilfsterme\n",
    "Lfh = st.lie_deriv(h, f, xx) ##:\n",
    "Lf2h = st.lie_deriv(h, f, xx, 2) ##:\n",
    "Lf3h = st.lie_deriv(h, f, xx, 3) ##:"
   ]
  },
  {
   "cell_type": "code",
   "execution_count": 4,
   "metadata": {},
   "outputs": [
    {
     "data": {
      "image/png": "[encoded data removed]",
      "text/latex": [
       "$$\\texttt{q} := \\left[\\begin{matrix}x_{4}\\\\x_{1}^{2} + x_{2}\\\\2 x_{1} \\left(- x_{1}^{3} + x_{1} x_{2}\\right) + x_{1}\\\\2 x_{1}^{3} + \\left(- x_{1}^{3} + x_{1} x_{2}\\right) \\left(- 2 x_{1}^{3} + 2 x_{1} x_{2} + 2 x_{1} \\left(- 3 x_{1}^{2} + x_{2}\\right) + 1\\right)\\end{matrix}\\right]$$"
      ],
      "text/plain": [
       "q := ⎡                                 x₄                                  ⎤\n",
       "⎢                                                                     ⎥\n",
       "⎢                                2                                    ⎥\n",
       "⎢                              x₁  + x₂                               ⎥\n",
       "⎢                                                                     ⎥\n",
       "⎢                           ⎛    3        ⎞                           ⎥\n",
       "⎢                      2⋅x₁⋅⎝- x₁  + x₁⋅x₂⎠ + x₁                      ⎥\n",
       "⎢                                                                     ⎥\n",
       "⎢    3   ⎛    3        ⎞ ⎛      3                  ⎛      2     ⎞    ⎞⎥\n",
       "⎣2⋅x₁  + ⎝- x₁  + x₁⋅x₂⎠⋅⎝- 2⋅x₁  + 2⋅x₁⋅x₂ + 2⋅x₁⋅⎝- 3⋅x₁  + x₂⎠ + 1⎠⎦"
      ]
     },
     "metadata": {},
     "output_type": "display_data"
    },
    {
     "name": "stdout",
     "output_type": "stream",
     "text": [
      "---\n"
     ]
    }
   ],
   "source": [
    "q = sp.Matrix([h, Lfh, Lf2h, Lf3h]) ##:"
   ]
  },
  {
   "cell_type": "code",
   "execution_count": 6,
   "metadata": {},
   "outputs": [
    {
     "data": {
      "image/png": "[encoded data removed]",
      "text/latex": [
       "$$\\texttt{Q } := \\left[\\begin{matrix}0 & 0 & 0 & 1\\\\2 x_{1} & 1 & 0 & 0\\\\- 8 x_{1}^{3} + 4 x_{1} x_{2} + 1 & 2 x_{1}^{2} & 0 & 0\\\\48 x_{1}^{5} - 48 x_{1}^{3} x_{2} + 3 x_{1}^{2} + 8 x_{1} x_{2}^{2} + x_{2} & x_{1} \\left(- 12 x_{1}^{3} + 8 x_{1} x_{2} + 1\\right) & 0 & 0\\end{matrix}\\right]$$"
      ],
      "text/plain": [
       "Q  := ⎡                    0                                    0               0  1\n",
       "⎢                                                                             \n",
       "⎢                   2⋅x₁                                  1               0  0\n",
       "⎢                                                                             \n",
       "⎢                3                                          2                 \n",
       "⎢          - 8⋅x₁  + 4⋅x₁⋅x₂ + 1                        2⋅x₁              0  0\n",
       "⎢                                                                             \n",
       "⎢     5        3          2          2          ⎛       3              ⎞      \n",
       "⎣48⋅x₁  - 48⋅x₁ ⋅x₂ + 3⋅x₁  + 8⋅x₁⋅x₂  + x₂  x₁⋅⎝- 12⋅x₁  + 8⋅x₁⋅x₂ + 1⎠  0  0\n",
       "\n",
       "⎤\n",
       "⎥\n",
       "⎥\n",
       "⎥\n",
       "⎥\n",
       "⎥\n",
       "⎥\n",
       "⎥\n",
       "⎦"
      ]
     },
     "metadata": {},
     "output_type": "display_data"
    },
    {
     "name": "stdout",
     "output_type": "stream",
     "text": [
      "___\n"
     ]
    }
   ],
   "source": [
    "Q = q.jacobian(xx)\n",
    "Q.simplify()\n",
    "Q ##:"
   ]
  },
  {
   "cell_type": "markdown",
   "metadata": {},
   "source": [
    "→ Beobachtbarkeitsrangbedingung ist nicht erfüllt\n",
    "\n",
    "b) **Relativer Grad**"
   ]
  },
  {
   "cell_type": "code",
   "execution_count": 7,
   "metadata": {},
   "outputs": [
    {
     "data": {
      "image/png": "[encoded data removed]",
      "text/latex": [
       "$$\\texttt{Lgh} := 0$$"
      ],
      "text/plain": [
       "Lgh := 0"
      ]
     },
     "metadata": {},
     "output_type": "display_data"
    },
    {
     "name": "stdout",
     "output_type": "stream",
     "text": [
      "---\n"
     ]
    },
    {
     "data": {
      "image/png": "[encoded data removed]",
      "text/latex": [
       "$$\\texttt{LgLfh} := 2 x_{3} + 2$$"
      ],
      "text/plain": [
       "LgLfh := 2⋅x₃ + 2"
      ]
     },
     "metadata": {},
     "output_type": "display_data"
    },
    {
     "name": "stdout",
     "output_type": "stream",
     "text": [
      "---\n"
     ]
    }
   ],
   "source": [
    "Lgh = st.lie_deriv(h, g, xx) ##:\n",
    "LgLfh = st.lie_deriv(Lfh, g, xx) ##:"
   ]
  },
  {
   "cell_type": "markdown",
   "metadata": {},
   "source": [
    "* $L_f h \\equiv 0$ → r >1 \n",
    "* $L_g L_f h \\not \\equiv 0$ → r = 1\n",
    "\n",
    "\n",
    "c) **Byrnes-Isidori-Normalform**"
   ]
  },
  {
   "cell_type": "code",
   "execution_count": null,
   "metadata": {
    "collapsed": true
   },
   "outputs": [],
   "source": []
  },
  {
   "cell_type": "code",
   "execution_count": 10,
   "metadata": {},
   "outputs": [
    {
     "data": {
      "image/png": "[encoded data removed]",
      "text/latex": [
       "$$\\texttt{T_} := \\left[\\begin{matrix}x_{4}\\\\x_{1}^{2} + x_{2}\\\\\\lambda_{1}\\\\\\lambda_{2}\\end{matrix}\\right]$$"
      ],
      "text/plain": [
       "T_ := ⎡   x₄   ⎤\n",
       "⎢        ⎥\n",
       "⎢  2     ⎥\n",
       "⎢x₁  + x₂⎥\n",
       "⎢        ⎥\n",
       "⎢   λ₁   ⎥\n",
       "⎢        ⎥\n",
       "⎣   λ₂   ⎦"
      ]
     },
     "metadata": {},
     "output_type": "display_data"
    },
    {
     "name": "stdout",
     "output_type": "stream",
     "text": [
      "---\n"
     ]
    }
   ],
   "source": [
    "# der Ober Teil der Transformation ist klar\n",
    "# Transformation ansetzen (mit Platzhaltern für die letzten  Komponenten):\n",
    "lmd1, lmd2 = sp.symbols(\"lambda1, lambda2\")\n",
    "\n",
    "T_ = sp.Matrix([h, Lfh, lmd1, lmd2]) ##:\n"
   ]
  },
  {
   "cell_type": "markdown",
   "metadata": {
    "collapsed": true
   },
   "source": [
    "$\\lambda_{1,2}$ müssen so gewählt werden, dass\n",
    "* Transformation invertierbar wird\n",
    "* $L_g \\lambda_{1,2} \\equiv 0$ gilt\n",
    "\n",
    "\n",
    "Entweder durch \"scharfes Hinsehen\" oder systematisch. Hier systematischer Lösungsweg: Annihilator von span{$g$} bestimmen:"
   ]
  },
  {
   "cell_type": "code",
   "execution_count": 14,
   "metadata": {},
   "outputs": [
    {
     "data": {
      "image/png": "[encoded data removed]",
      "text/latex": [
       "$$\\texttt{anni} := \\left[\\begin{matrix}1 & 0 & 0 & 0\\\\0 & -1 & 2 x_{3} + 2 & 0\\\\0 & 0 & 0 & 1\\end{matrix}\\right]$$"
      ],
      "text/plain": [
       "anni := ⎡1  0      0      0⎤\n",
       "⎢                  ⎥\n",
       "⎢0  -1  2⋅x₃ + 2  0⎥\n",
       "⎢                  ⎥\n",
       "⎣0  0      0      1⎦"
      ]
     },
     "metadata": {},
     "output_type": "display_data"
    },
    {
     "name": "stdout",
     "output_type": "stream",
     "text": [
      "---\n"
     ]
    }
   ],
   "source": [
    "anni = st.nullspaceMatrix(g.T).T ##:"
   ]
  },
  {
   "cell_type": "code",
   "execution_count": 21,
   "metadata": {
    "collapsed": true
   },
   "outputs": [],
   "source": [
    "# Paket zum Rechnen mit Differentialformen laden\n",
    "#(eigentlich hier nicht nötig, weil Rechnungen auch direkt ausgeführt werden könnten)\n",
    "import pycartan as pc"
   ]
  },
  {
   "cell_type": "code",
   "execution_count": 22,
   "metadata": {},
   "outputs": [
    {
     "data": {
      "text/plain": [
       "w1 := (1)dx1"
      ]
     },
     "metadata": {},
     "output_type": "display_data"
    },
    {
     "name": "stdout",
     "output_type": "stream",
     "text": [
      "---\n"
     ]
    },
    {
     "data": {
      "text/plain": [
       "w2 := (-1)dx2  +  (2*x3 + 2)dx3"
      ]
     },
     "metadata": {},
     "output_type": "display_data"
    },
    {
     "name": "stdout",
     "output_type": "stream",
     "text": [
      "---\n"
     ]
    },
    {
     "data": {
      "text/plain": [
       "w3 := (1)dx4"
      ]
     },
     "metadata": {},
     "output_type": "display_data"
    },
    {
     "name": "stdout",
     "output_type": "stream",
     "text": [
      "---\n"
     ]
    }
   ],
   "source": [
    "w1 = pc.DifferentialForm(1, xx, coeff=anni[0, :]) ##:\n",
    "w2 = pc.DifferentialForm(1, xx, coeff=anni[1, :]) ##:\n",
    "w3 = pc.DifferentialForm(1, xx, coeff=anni[2, :]) ##:"
   ]
  },
  {
   "cell_type": "code",
   "execution_count": 24,
   "metadata": {},
   "outputs": [
    {
     "data": {
      "image/png": "[encoded data removed]",
      "text/latex": [
       "$$\\texttt{lmd1_} := x_{1}$$"
      ],
      "text/plain": [
       "lmd1_ := x₁"
      ]
     },
     "metadata": {},
     "output_type": "display_data"
    },
    {
     "name": "stdout",
     "output_type": "stream",
     "text": [
      "---\n"
     ]
    },
    {
     "data": {
      "image/png": "[encoded data removed]",
      "text/latex": [
       "$$\\texttt{lmd2_} := - x_{2} + x_{3} \\left(x_{3} + 2\\right)$$"
      ],
      "text/plain": [
       "lmd2_ := -x₂ + x₃⋅(x₃ + 2)"
      ]
     },
     "metadata": {},
     "output_type": "display_data"
    },
    {
     "name": "stdout",
     "output_type": "stream",
     "text": [
      "---\n"
     ]
    },
    {
     "data": {
      "image/png": "[encoded data removed]",
      "text/latex": [
       "$$\\texttt{lmd3_} := x_{4}$$"
      ],
      "text/plain": [
       "lmd3_ := x₄"
      ]
     },
     "metadata": {},
     "output_type": "display_data"
    },
    {
     "name": "stdout",
     "output_type": "stream",
     "text": [
      "---\n"
     ]
    }
   ],
   "source": [
    "# Einzelne Differentialformen integrieren\n",
    "lmd1_ = w1.integrate()  ##:\n",
    "lmd2_ = w2.integrate()  ##:\n",
    "lmd3_ = w3.integrate()  ##:"
   ]
  },
  {
   "cell_type": "markdown",
   "metadata": {},
   "source": [
    "$x_4$ ist schon im oberen Teil der Transformation als Variable enthalten ($z_1 = x_4$), deswegen ist $\\lambda_4$ nicht zu gebrauchen. → $\\lambda_{1,2}$ bilden die gesuchten Größen"
   ]
  },
  {
   "cell_type": "code",
   "execution_count": 25,
   "metadata": {},
   "outputs": [
    {
     "data": {
      "image/png": "[encoded data removed]",
      "text/latex": [
       "$$\\texttt{T} := \\left[\\begin{matrix}x_{4}\\\\x_{1}^{2} + x_{2}\\\\x_{1}\\\\- x_{2} + x_{3} \\left(x_{3} + 2\\right)\\end{matrix}\\right]$$"
      ],
      "text/plain": [
       "T := ⎡       x₄        ⎤\n",
       "⎢                 ⎥\n",
       "⎢      2          ⎥\n",
       "⎢    x₁  + x₂     ⎥\n",
       "⎢                 ⎥\n",
       "⎢       x₁        ⎥\n",
       "⎢                 ⎥\n",
       "⎣-x₂ + x₃⋅(x₃ + 2)⎦"
      ]
     },
     "metadata": {},
     "output_type": "display_data"
    },
    {
     "name": "stdout",
     "output_type": "stream",
     "text": [
      "---\n"
     ]
    }
   ],
   "source": [
    "# geschickte Wahl von XX, so dass Transformation invertierbar wird\n",
    "T = T_.subs([(lmd1, lmd1_), (lmd2, lmd2_)]) ##:\n"
   ]
  },
  {
   "cell_type": "code",
   "execution_count": 26,
   "metadata": {},
   "outputs": [
    {
     "data": {
      "image/png": "[encoded data removed]",
      "text/latex": [
       "$$\\texttt{res} := \\left ( z_{3}, \\quad z_{2} - z_{3}^{2}, \\quad - \\sqrt{z_{2} - z_{3}^{2} + z_{4} + 1} - 1, \\quad z_{1}\\right )$$"
      ],
      "text/plain": [
       "res := ⎛                   ___________________        ⎞\n",
       "⎜           2      ╱        2                  ⎟\n",
       "⎝z₃, z₂ - z₃ , - ╲╱  z₂ - z₃  + z₄ + 1  - 1, z₁⎠"
      ]
     },
     "metadata": {},
     "output_type": "display_data"
    },
    {
     "name": "stdout",
     "output_type": "stream",
     "text": [
      "---\n"
     ]
    },
    {
     "data": {
      "image/png": "[encoded data removed]",
      "text/latex": [
       "$$\\texttt{rplmts} := \\left [ \\left ( x_{1}, \\quad z_{3}\\right ), \\quad \\left ( x_{2}, \\quad z_{2} - z_{3}^{2}\\right ), \\quad \\left ( x_{3}, \\quad - \\sqrt{z_{2} - z_{3}^{2} + z_{4} + 1} - 1\\right ), \\quad \\left ( x_{4}, \\quad z_{1}\\right )\\right ]$$"
      ],
      "text/plain": [
       "rplmts := ⎡                          ⎛         ___________________    ⎞          ⎤\n",
       "⎢          ⎛           2⎞  ⎜        ╱        2              ⎟          ⎥\n",
       "⎣(x₁, z₃), ⎝x₂, z₂ - z₃ ⎠, ⎝x₃, - ╲╱  z₂ - z₃  + z₄ + 1  - 1⎠, (x₄, z₁)⎦"
      ]
     },
     "metadata": {},
     "output_type": "display_data"
    },
    {
     "name": "stdout",
     "output_type": "stream",
     "text": [
      "---\n"
     ]
    }
   ],
   "source": [
    "# Berechnung der Umkehrtransformation\n",
    "zz = st.symb_vector(\"z1:5\")\n",
    "\n",
    "res = sp.solve(T-zz, xx)[0] ##:\n",
    "\n",
    "rplmts = st.lzip(xx, res) ##:\n"
   ]
  },
  {
   "cell_type": "markdown",
   "metadata": {},
   "source": [
    "System in BI-Normalform $\\dot z = \\left(T'(x) (f(x) + g(x) u\\right)\\big|_{~x = T^{-1}(z)}$ überführen."
   ]
  },
  {
   "cell_type": "code",
   "execution_count": 34,
   "metadata": {},
   "outputs": [
    {
     "data": {
      "image/png": "[encoded data removed]",
      "text/latex": [
       "$$\\texttt{z_dot_tmp} := \\left[\\begin{matrix}x_{1}^{2} + x_{2}\\\\u \\left(2 x_{3} + 2\\right) + 2 x_{1} \\left(- x_{1}^{3} + x_{1} x_{2}\\right) + x_{1}\\\\- x_{1}^{3} + x_{1} x_{2}\\\\- u \\left(2 x_{3} + 2\\right) - x_{1} + \\left(u - x_{3}\\right) \\left(2 x_{3} + 2\\right)\\end{matrix}\\right]$$"
      ],
      "text/plain": [
       "z_dot_tmp := ⎡                  2                     ⎤\n",
       "⎢                x₁  + x₂                ⎥\n",
       "⎢                                        ⎥\n",
       "⎢                    ⎛    3        ⎞     ⎥\n",
       "⎢u⋅(2⋅x₃ + 2) + 2⋅x₁⋅⎝- x₁  + x₁⋅x₂⎠ + x₁⎥\n",
       "⎢                                        ⎥\n",
       "⎢                 3                      ⎥\n",
       "⎢             - x₁  + x₁⋅x₂              ⎥\n",
       "⎢                                        ⎥\n",
       "⎣-u⋅(2⋅x₃ + 2) - x₁ + (u - x₃)⋅(2⋅x₃ + 2)⎦"
      ]
     },
     "metadata": {},
     "output_type": "display_data"
    },
    {
     "name": "stdout",
     "output_type": "stream",
     "text": [
      "---\n"
     ]
    },
    {
     "data": {
      "image/png": "[encoded data removed]",
      "text/latex": [
       "$$\\texttt{z_dot } := \\left[\\begin{matrix}z_{2}\\\\- 2 u \\sqrt{z_{2} - z_{3}^{2} + z_{4} + 1} + 2 z_{3}^{2} \\left(z_{2} - 2 z_{3}^{2}\\right) + z_{3}\\\\z_{3} \\left(z_{2} - 2 z_{3}^{2}\\right)\\\\- 2 z_{2} + 2 z_{3}^{2} - z_{3} - 2 z_{4} - 2 \\sqrt{z_{2} - z_{3}^{2} + z_{4} + 1} - 2\\end{matrix}\\right]$$"
      ],
      "text/plain": [
       "z_dot  := ⎡                           z₂                           ⎤\n",
       "⎢                                                        ⎥\n",
       "⎢          ___________________                           ⎥\n",
       "⎢         ╱        2                 2 ⎛         2⎞      ⎥\n",
       "⎢ - 2⋅u⋅╲╱  z₂ - z₃  + z₄ + 1  + 2⋅z₃ ⋅⎝z₂ - 2⋅z₃ ⎠ + z₃ ⎥\n",
       "⎢                                                        ⎥\n",
       "⎢                       ⎛         2⎞                     ⎥\n",
       "⎢                    z₃⋅⎝z₂ - 2⋅z₃ ⎠                     ⎥\n",
       "⎢                                                        ⎥\n",
       "⎢                                 ___________________    ⎥\n",
       "⎢            2                   ╱        2              ⎥\n",
       "⎣-2⋅z₂ + 2⋅z₃  - z₃ - 2⋅z₄ - 2⋅╲╱  z₂ - z₃  + z₄ + 1  - 2⎦"
      ]
     },
     "metadata": {},
     "output_type": "display_data"
    },
    {
     "name": "stdout",
     "output_type": "stream",
     "text": [
      "___\n"
     ]
    }
   ],
   "source": [
    "z_dot_tmp = T.jacobian(xx)*(f + g*u) ##:\n",
    "\n",
    "z_dot = z_dot_tmp.subs(rplmts)\n",
    "z_dot.simplify()\n",
    "z_dot ##:"
   ]
  },
  {
   "cell_type": "markdown",
   "metadata": {},
   "source": [
    "Damit ist das System in die BI-NF überführt. Das kann für den Beobachter-Entwurf ausgenutzt werden (nächste Übung)."
   ]
  }
 ],
 "metadata": {
  "kernelspec": {
   "display_name": "Python 3",
   "language": "python",
   "name": "python3"
  },
  "language_info": {
   "codemirror_mode": {
    "name": "ipython",
    "version": 3
   },
   "file_extension": ".py",
   "mimetype": "text/x-python",
   "name": "python",
   "nbconvert_exporter": "python",
   "pygments_lexer": "ipython3",
   "version": "3.5.3"
  }
 },
 "nbformat": 4,
 "nbformat_minor": 2
}
