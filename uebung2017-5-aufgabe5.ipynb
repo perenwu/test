{
 "cells": [
  {
   "cell_type": "code",
   "execution_count": 1,
   "metadata": {},
   "outputs": [
    {
     "data": {
      "text/plain": [
       "'Fri Dec  8 22:07:23 2017'"
      ]
     },
     "execution_count": 1,
     "metadata": {},
     "output_type": "execute_result"
    }
   ],
   "source": [
    "import time\n",
    "time.ctime()"
   ]
  },
  {
   "cell_type": "markdown",
   "metadata": {},
   "source": [
    "Dieses IPython-Notebook basiert auf einer Beispiel-Rechnung als Ergänzung zur Dissertationsschrift von C. Knoll. Allgemeine Hinweise zu den Beispielen sind in der [readme.md-Datei des entsprechenden Repositoriums](https://github.com/cknoll/beispiele/blob/master/readme.md) zu finden.\n",
    "\n",
    "Dieses Notebook benötigt folgende Module (am einfachsten per `pip install <modulname>` zu installieren):\n",
    "* sympy\n",
    "* https://github.com/TUD-RST/symbtools\n",
    "* https://github.com/cknoll/ipydex\n",
    "\n",
    "\n",
    "---"
   ]
  },
  {
   "cell_type": "markdown",
   "metadata": {},
   "source": [
    "**Betrachtetes System**: Pendel mit horizontal verschieblicher Aufhängung (\"Wagen-Pendel-System\")\n",
    "\n",
    "￼ <img src=\"pendel_wagen.png\">\n",
    "\n",
    "**Inhalt**:\n",
    "* Herleitung der Modellgleichungen in partiell linearisierter Form\n",
    "* Transformation in Byrnes-Isidori-Normalform\n",
    "\n",
    "\n",
    "[//]: # (custom_config_start)\n",
    "$$\n",
    "\\newcommand{\\d}{\\mathrm{d}}\n",
    "\\newcommand{\\col}{\\mathrm{col}}\n",
    "\\newcommand{\\bs}{\\boldsymbol}\n",
    "\\newcommand{\\Ddt}{\\left(\\tfrac{d}{dt}\\right)}\n",
    "\\newcommand{\\ddt}{\\tfrac{d}{dt}}\n",
    "$$\n",
    "[//]: # (custom_config_end)"
   ]
  },
  {
   "cell_type": "code",
   "execution_count": 2,
   "metadata": {
    "collapsed": true
   },
   "outputs": [],
   "source": [
    "%load_ext ipydex.displaytools\n",
    "%matplotlib inline\n",
    "\n",
    "import sympy as sp\n",
    "from sympy import sin, cos, pi\n",
    "from sympy.interactive import printing\n",
    "import pickle\n",
    "from scipy.integrate import odeint\n",
    "\n",
    "import symbtools as st\n",
    "import symbtools.modeltools as mt\n",
    "import symbtools.noncommutativetools as nct\n",
    "\n",
    "zip0 = st.zip0\n",
    "printing.init_printing(1)"
   ]
  },
  {
   "cell_type": "code",
   "execution_count": 3,
   "metadata": {},
   "outputs": [
    {
     "data": {
      "image/png": "[encoded data removed]",
      "text/latex": [
       "$$\\texttt{ttheta.T} := \\left[\\begin{matrix}p_{1} & q_{1}\\end{matrix}\\right]$$"
      ],
      "text/plain": [
       "ttheta.T := [p₁  q₁]"
      ]
     },
     "metadata": {},
     "output_type": "display_data"
    },
    {
     "name": "stdout",
     "output_type": "stream",
     "text": [
      "---\n"
     ]
    },
    {
     "data": {
      "image/png": "[encoded data removed]",
      "text/latex": [
       "$$\\texttt{tthetad.T} := \\left[\\begin{matrix}\\dot{p}_{1} & \\dot{q}_{1}\\end{matrix}\\right]$$"
      ],
      "text/plain": [
       "tthetad.T := [ṗ₁  q̇₁]"
      ]
     },
     "metadata": {},
     "output_type": "display_data"
    },
    {
     "name": "stdout",
     "output_type": "stream",
     "text": [
      "---\n"
     ]
    },
    {
     "data": {
      "image/png": "[encoded data removed]",
      "text/latex": [
       "$$\\texttt{tthetadd.T} := \\left[\\begin{matrix}\\ddot{p}_{1} & \\ddot{q}_{1}\\end{matrix}\\right]$$"
      ],
      "text/plain": [
       "tthetadd.T := [p̈₁  q̈₁]"
      ]
     },
     "metadata": {},
     "output_type": "display_data"
    },
    {
     "name": "stdout",
     "output_type": "stream",
     "text": [
      "---\n"
     ]
    }
   ],
   "source": [
    "t = sp.Symbol('t')\n",
    "Np = 1\n",
    "Nq = 1\n",
    "n = Np + Nq\n",
    "pp = st.symb_vector(\"p1:{0}\".format(Np+1))\n",
    "qq = st.symb_vector(\"q1:{0}\".format(Nq+1))\n",
    "aa = st.symb_vector(\"a1:{0}\".format(Nq+1))\n",
    "ww = st.symb_vector(\"w1:{0}\".format(Nq+1))\n",
    "\n",
    "ttheta = st.row_stack(pp, qq) ##:T\n",
    "tthetad = st.time_deriv(ttheta, ttheta) ##:T\n",
    "tthetadd = st.time_deriv(ttheta, ttheta, order=2) ##:T\n",
    "st.make_global(ttheta, tthetad)"
   ]
  },
  {
   "cell_type": "code",
   "execution_count": 4,
   "metadata": {
    "collapsed": true
   },
   "outputs": [],
   "source": [
    "params = sp.symbols('m1, m2, s2, g')\n",
    "st.make_global(params)\n",
    "\n",
    "tau1 = sp.Symbol(\"tau1\")"
   ]
  },
  {
   "cell_type": "markdown",
   "metadata": {},
   "source": [
    "### Festlegung der Geometrie des mechanischen Systemes"
   ]
  },
  {
   "cell_type": "code",
   "execution_count": 5,
   "metadata": {},
   "outputs": [
    {
     "data": {
      "image/png": "[encoded data removed]",
      "text/latex": [
       "$$\\left[\\begin{matrix}\\dot{q}_{1}\\\\0\\end{matrix}\\right]$$"
      ],
      "text/plain": [
       "⎡q̇₁⎤\n",
       "⎢   ⎥\n",
       "⎣ 0 ⎦"
      ]
     },
     "metadata": {},
     "output_type": "display_data"
    },
    {
     "data": {
      "image/png": "[encoded data removed]",
      "text/latex": [
       "$$\\left[\\begin{matrix}\\dot{p}_{1} s_{2} \\cos{\\left (p_{1} \\right )} + \\dot{q}_{1}\\\\\\dot{p}_{1} s_{2} \\sin{\\left (p_{1} \\right )}\\end{matrix}\\right]$$"
      ],
      "text/plain": [
       "⎡ṗ₁⋅s₂⋅cos(p₁) + q̇₁⎤\n",
       "⎢                    ⎥\n",
       "⎣   ṗ₁⋅s₂⋅sin(p₁)   ⎦"
      ]
     },
     "metadata": {},
     "output_type": "display_data"
    },
    {
     "name": "stdout",
     "output_type": "stream",
     "text": [
      "---\n"
     ]
    }
   ],
   "source": [
    "#Einheitsvektoren\n",
    "\n",
    "ex = sp.Matrix([1,0])\n",
    "ey = sp.Matrix([0,1])\n",
    "\n",
    "\n",
    "# Koordinaten der Schwerpunkte und Gelenke\n",
    "\n",
    "S1 = ex*q1 # Schwerpunkt Wagen\n",
    "G2 = S1 # Pendel-Gelenk\n",
    "\n",
    "# Schwerpunkt des Pendels (Pendel zeigt für kleine Winkel nach unten)\n",
    "S2 = G2 + mt.Rz(p1)*(-ey)*s2\n",
    "\n",
    "# Zeitableitungen der Schwerpunktskoordinaten\n",
    "Sd1, Sd2  = st.col_split(st.time_deriv(st.col_stack(S1, S2), ttheta)) ##"
   ]
  },
  {
   "cell_type": "code",
   "execution_count": 6,
   "metadata": {
    "collapsed": true
   },
   "outputs": [],
   "source": [
    "# Energie\n",
    "T_rot = 0 # (Punktmassenmodell)\n",
    "T_trans = ( m1*Sd1.T*Sd1  +  m2*Sd2.T*Sd2 )/2\n",
    "\n",
    "T = T_rot + T_trans[0]\n",
    "\n",
    "V = m2*g*S2[1]"
   ]
  },
  {
   "cell_type": "code",
   "execution_count": 7,
   "metadata": {
    "collapsed": true
   },
   "outputs": [],
   "source": [
    "mod = mt.generate_symbolic_model(T, V, ttheta, [0, tau1])"
   ]
  },
  {
   "cell_type": "code",
   "execution_count": 8,
   "metadata": {},
   "outputs": [
    {
     "data": {
      "image/png": "[encoded data removed]",
      "text/latex": [
       "$$\\left[\\begin{matrix}m_{2} s_{2} \\left(g \\sin{\\left (p_{1} \\right )} + \\ddot{p}_{1} s_{2} + \\ddot{q}_{1} \\cos{\\left (p_{1} \\right )}\\right)\\\\m_{1} \\ddot{q}_{1} + m_{2} \\left(\\ddot{p}_{1} s_{2} \\cos{\\left (p_{1} \\right )} - \\dot{p}_{1}^{2} s_{2} \\sin{\\left (p_{1} \\right )} + \\ddot{q}_{1}\\right) - \\tau_{1}\\end{matrix}\\right]$$"
      ],
      "text/plain": [
       "⎡        m₂⋅s₂⋅(g⋅sin(p₁) + p̈₁⋅s₂ + q̈₁⋅cos(p₁))         ⎤\n",
       "⎢                                                         ⎥\n",
       "⎢            ⎛                    2                 ⎞     ⎥\n",
       "⎣m₁⋅q̈₁ + m₂⋅⎝p̈₁⋅s₂⋅cos(p₁) - ṗ₁ ⋅s₂⋅sin(p₁) + q̈₁⎠ - τ₁⎦"
      ]
     },
     "execution_count": 8,
     "metadata": {},
     "output_type": "execute_result"
    }
   ],
   "source": [
    "mod.eqns"
   ]
  },
  {
   "cell_type": "code",
   "execution_count": 9,
   "metadata": {
    "collapsed": true
   },
   "outputs": [],
   "source": [
    "mod.calc_state_eq()"
   ]
  },
  {
   "cell_type": "code",
   "execution_count": 10,
   "metadata": {},
   "outputs": [
    {
     "data": {
      "image/png": "[encoded data removed]",
      "text/latex": [
       "$$\\texttt{mod.f } := \\left[\\begin{matrix}\\dot{p}_{1}\\\\\\dot{q}_{1}\\\\- \\frac{\\sin{\\left (p_{1} \\right )}}{s_{2} \\left(m_{1} + m_{2} \\sin^{2}{\\left (p_{1} \\right )}\\right)} \\left(g m_{1} + g m_{2} + m_{2} \\dot{p}_{1}^{2} s_{2} \\cos{\\left (p_{1} \\right )}\\right)\\\\\\frac{m_{2} \\left(g \\cos{\\left (p_{1} \\right )} + \\dot{p}_{1}^{2} s_{2}\\right) \\sin{\\left (p_{1} \\right )}}{m_{1} + m_{2} \\sin^{2}{\\left (p_{1} \\right )}}\\end{matrix}\\right]$$"
      ],
      "text/plain": [
       "mod.f  := ⎡                    ṗ₁                     ⎤\n",
       "⎢                                            ⎥\n",
       "⎢                    q̇₁                     ⎥\n",
       "⎢                                            ⎥\n",
       "⎢ ⎛                    2           ⎞         ⎥\n",
       "⎢-⎝g⋅m₁ + g⋅m₂ + m₂⋅ṗ₁ ⋅s₂⋅cos(p₁)⎠⋅sin(p₁) ⎥\n",
       "⎢────────────────────────────────────────────⎥\n",
       "⎢              ⎛           2    ⎞            ⎥\n",
       "⎢           s₂⋅⎝m₁ + m₂⋅sin (p₁)⎠            ⎥\n",
       "⎢                                            ⎥\n",
       "⎢         ⎛               2   ⎞              ⎥\n",
       "⎢      m₂⋅⎝g⋅cos(p₁) + ṗ₁ ⋅s₂⎠⋅sin(p₁)      ⎥\n",
       "⎢      ────────────────────────────────      ⎥\n",
       "⎢                         2                  ⎥\n",
       "⎣              m₁ + m₂⋅sin (p₁)              ⎦"
      ]
     },
     "metadata": {},
     "output_type": "display_data"
    },
    {
     "name": "stdout",
     "output_type": "stream",
     "text": [
      "___\n"
     ]
    },
    {
     "data": {
      "image/png": "[encoded data removed]",
      "text/latex": [
       "$$\\texttt{mod.g } := \\left[\\begin{matrix}0\\\\0\\\\- \\frac{\\cos{\\left (p_{1} \\right )}}{s_{2} \\left(m_{1} + m_{2} \\sin^{2}{\\left (p_{1} \\right )}\\right)}\\\\\\frac{1}{m_{1} + m_{2} \\sin^{2}{\\left (p_{1} \\right )}}\\end{matrix}\\right]$$"
      ],
      "text/plain": [
       "mod.g  := ⎡          0          ⎤\n",
       "⎢                     ⎥\n",
       "⎢          0          ⎥\n",
       "⎢                     ⎥\n",
       "⎢      -cos(p₁)       ⎥\n",
       "⎢─────────────────────⎥\n",
       "⎢   ⎛           2    ⎞⎥\n",
       "⎢s₂⋅⎝m₁ + m₂⋅sin (p₁)⎠⎥\n",
       "⎢                     ⎥\n",
       "⎢         1           ⎥\n",
       "⎢  ────────────────   ⎥\n",
       "⎢             2       ⎥\n",
       "⎣  m₁ + m₂⋅sin (p₁)   ⎦"
      ]
     },
     "metadata": {},
     "output_type": "display_data"
    },
    {
     "name": "stdout",
     "output_type": "stream",
     "text": [
      "___\n"
     ]
    }
   ],
   "source": [
    "mod.f ##:\n",
    "mod.g ##:"
   ]
  },
  {
   "cell_type": "code",
   "execution_count": 11,
   "metadata": {},
   "outputs": [
    {
     "name": "stdout",
     "output_type": "stream",
     "text": [
      "\\left(\\begin{matrix}\n",
      "x_{3}\\\\\n",
      "x_{4}\\\\\n",
      "- \\frac{\\sin x_{1} }{s_{2} \\left(m_{1} + m_{2} \\sin^{2} x_{1} \\right)} \\left(g m_{1} + g m_{2} + m_{2} s_{2} x_{3}^{2} \\cos x_{1} \\right)\\\\\n",
      "\\frac{m_{2} \\left(g \\cos x_{1}  + s_{2} x_{3}^{2}\\right) \\sin x_{1} }{m_{1} + m_{2} \\sin^{2} x_{1} }\n",
      "\\end{matrix}\\right)\n",
      "% -------------\n",
      "\\left(\\begin{matrix}\n",
      "0\\\\\n",
      "0\\\\\n",
      "- \\frac{\\cos x_{1} }{s_{2} \\left(m_{1} + m_{2} \\sin^{2} x_{1} \\right)}\\\\\n",
      "\\frac{1}{m_{1} + m_{2} \\sin^{2} x_{1} }\n",
      "\\end{matrix}\\right)\n",
      "% -------------\n"
     ]
    }
   ],
   "source": [
    "xx = st.symb_vector('x1:5') # Andere Symbole für Zustandskomponenten\n",
    "\n",
    "# Latex-Code  für die Übung\n",
    "st.adapted_latex(mod.f.subz(mod.xx, xx))\n",
    "st.adapted_latex(mod.g.subz(mod.xx, xx))\n"
   ]
  },
  {
   "cell_type": "code",
   "execution_count": 12,
   "metadata": {},
   "outputs": [],
   "source": [
    "mod.calc_coll_part_lin_state_eq()\n",
    "\n",
    "# Benennung und Sortierung der Zustandskomponenten zu Übung / Vorlesung anpassen.\n",
    "# Toolsbox modeltools benutzt aus $Gründen andere Konvention\n",
    "\n",
    "zz = st.symb_vector('z1:5')\n",
    "ww = st.symb_vector('w1:5')\n",
    "st.make_global(xx, zz)\n",
    "\n",
    "# Transformation von x nach z: z = Phi(x)\n",
    "Phi = sp.Matrix([x2, x4, x1, x3])\n",
    "J_Phi = Phi.jacobian(xx)"
   ]
  },
  {
   "cell_type": "code",
   "execution_count": 13,
   "metadata": {},
   "outputs": [
    {
     "data": {
      "image/png": "[encoded data removed]",
      "text/latex": [
       "$$\\texttt{f_tilde} := \\left[\\begin{matrix}z_{2}\\\\0\\\\z_{4}\\\\- \\frac{g}{s_{2}} \\sin{\\left (z_{3} \\right )}\\end{matrix}\\right]$$"
      ],
      "text/plain": [
       "f_tilde := ⎡    z₂     ⎤\n",
       "⎢           ⎥\n",
       "⎢     0     ⎥\n",
       "⎢           ⎥\n",
       "⎢    z₄     ⎥\n",
       "⎢           ⎥\n",
       "⎢-g⋅sin(z₃) ⎥\n",
       "⎢───────────⎥\n",
       "⎣     s₂    ⎦"
      ]
     },
     "metadata": {},
     "output_type": "display_data"
    },
    {
     "name": "stdout",
     "output_type": "stream",
     "text": [
      "---\n"
     ]
    },
    {
     "data": {
      "image/png": "[encoded data removed]",
      "text/latex": [
       "$$\\texttt{g_tilde} := \\left[\\begin{matrix}0\\\\1\\\\0\\\\- \\frac{1}{s_{2}} \\cos{\\left (z_{3} \\right )}\\end{matrix}\\right]$$"
      ],
      "text/plain": [
       "g_tilde := ⎡    0    ⎤\n",
       "⎢         ⎥\n",
       "⎢    1    ⎥\n",
       "⎢         ⎥\n",
       "⎢    0    ⎥\n",
       "⎢         ⎥\n",
       "⎢-cos(z₃) ⎥\n",
       "⎢─────────⎥\n",
       "⎣    s₂   ⎦"
      ]
     },
     "metadata": {},
     "output_type": "display_data"
    },
    {
     "name": "stdout",
     "output_type": "stream",
     "text": [
      "---\n"
     ]
    }
   ],
   "source": [
    "f_tilde = J_Phi * mod.ff.subz(mod.xx, xx).subz(Phi, zz) ##:\n",
    "g_tilde = J_Phi * mod.gg.subz(mod.xx, xx).subz(Phi, zz) ##:"
   ]
  },
  {
   "cell_type": "code",
   "execution_count": 14,
   "metadata": {
    "collapsed": true
   },
   "outputs": [],
   "source": [
    "mod.calc_lbi_nf_state_eq()"
   ]
  },
  {
   "cell_type": "code",
   "execution_count": 16,
   "metadata": {},
   "outputs": [
    {
     "data": {
      "image/png": "[encoded data removed]",
      "text/latex": [
       "$$\\texttt{mod.fz.subz(mod.zz, ww) } := \\left[\\begin{matrix}w_{2}\\\\0\\\\w_{4} - \\frac{w_{2}}{s_{2}} \\cos{\\left (w_{3} \\right )}\\\\- \\frac{g}{s_{2}} \\sin{\\left (w_{3} \\right )} - \\frac{w_{2}}{s_{2}} \\left(w_{4} - \\frac{w_{2}}{s_{2}} \\cos{\\left (w_{3} \\right )}\\right) \\sin{\\left (w_{3} \\right )}\\end{matrix}\\right]$$"
      ],
      "text/plain": [
       "mod.fz.subz(mod.zz, ww)  := ⎡                    w₂                    ⎤\n",
       "⎢                                          ⎥\n",
       "⎢                    0                     ⎥\n",
       "⎢                                          ⎥\n",
       "⎢                  w₂⋅cos(w₃)              ⎥\n",
       "⎢             w₄ - ──────────              ⎥\n",
       "⎢                      s₂                  ⎥\n",
       "⎢                                          ⎥\n",
       "⎢                 ⎛     w₂⋅cos(w₃)⎞        ⎥\n",
       "⎢              w₂⋅⎜w₄ - ──────────⎟⋅sin(w₃)⎥\n",
       "⎢  g⋅sin(w₃)      ⎝         s₂    ⎠        ⎥\n",
       "⎢- ───────── - ────────────────────────────⎥\n",
       "⎣      s₂                   s₂             ⎦"
      ]
     },
     "metadata": {},
     "output_type": "display_data"
    },
    {
     "name": "stdout",
     "output_type": "stream",
     "text": [
      "___\n"
     ]
    },
    {
     "data": {
      "image/png": "[encoded data removed]",
      "text/latex": [
       "$$\\texttt{mod.gz.subz(mod.zz, ww) } := \\left[\\begin{matrix}0\\\\1\\\\0\\\\0\\end{matrix}\\right]$$"
      ],
      "text/plain": [
       "mod.gz.subz(mod.zz, ww)  := ⎡0⎤\n",
       "⎢ ⎥\n",
       "⎢1⎥\n",
       "⎢ ⎥\n",
       "⎢0⎥\n",
       "⎢ ⎥\n",
       "⎣0⎦"
      ]
     },
     "metadata": {},
     "output_type": "display_data"
    },
    {
     "name": "stdout",
     "output_type": "stream",
     "text": [
      "___\n"
     ]
    }
   ],
   "source": [
    "mod.fz.subz(mod.zz, ww) ##:\n",
    "mod.gz.subz(mod.zz, ww) ##:"
   ]
  }
 ],
 "metadata": {
  "kernelspec": {
   "display_name": "Python 3",
   "language": "python",
   "name": "python3"
  },
  "language_info": {
   "codemirror_mode": {
    "name": "ipython",
    "version": 3
   },
   "file_extension": ".py",
   "mimetype": "text/x-python",
   "name": "python",
   "nbconvert_exporter": "python",
   "pygments_lexer": "ipython3",
   "version": "3.5.3"
  }
 },
 "nbformat": 4,
 "nbformat_minor": 1
}
